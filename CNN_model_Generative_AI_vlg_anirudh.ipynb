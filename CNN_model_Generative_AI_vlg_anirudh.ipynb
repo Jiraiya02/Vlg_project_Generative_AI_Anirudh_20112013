{
  "nbformat": 4,
  "nbformat_minor": 0,
  "metadata": {
    "colab": {
      "provenance": []
    },
    "kernelspec": {
      "name": "python3",
      "display_name": "Python 3"
    },
    "language_info": {
      "name": "python"
    }
  },
  "cells": [
    {
      "cell_type": "code",
      "source": [
        "from google.colab import drive\n",
        "drive.mount('/content/gdrive')"
      ],
      "metadata": {
        "colab": {
          "base_uri": "https://localhost:8080/"
        },
        "id": "FzSEaZrRnkG_",
        "outputId": "226baa83-235e-4662-9bba-dff519823b93"
      },
      "execution_count": 17,
      "outputs": [
        {
          "output_type": "stream",
          "name": "stdout",
          "text": [
            "Drive already mounted at /content/gdrive; to attempt to forcibly remount, call drive.mount(\"/content/gdrive\", force_remount=True).\n"
          ]
        }
      ]
    },
    {
      "cell_type": "markdown",
      "source": [
        "CNN ARCHITECTURE MODEL"
      ],
      "metadata": {
        "id": "CO1glq8inrSt"
      }
    },
    {
      "cell_type": "code",
      "source": [
        "#CNN Architecture\n",
        "\n",
        "#LeNET type CNN Architecture\n",
        "\n",
        "import pandas as pd\n",
        "import numpy as np\n",
        "import tensorflow as tf\n",
        "from tensorflow.keras.models import Sequential\n",
        "from tensorflow.keras.layers import Conv2D, MaxPooling2D, Flatten, Dense, Dropout\n",
        "from tensorflow.keras.preprocessing.image import ImageDataGenerator\n",
        "from sklearn.preprocessing import StandardScaler\n",
        "from sklearn.model_selection import train_test_split\n",
        "from tensorflow.keras.callbacks import EarlyStopping\n",
        "import matplotlib.pyplot as plt\n",
        "\n",
        "\n",
        "train_d = pd.read_csv('/content/gdrive/MyDrive/train (1).csv')\n",
        "X=train_d.drop(['labels'],axis=1)\n",
        "y = train_d['labels'].values\n",
        "\n",
        "\n",
        "\n",
        "test_d = pd.read_csv('/content/gdrive/MyDrive/test.csv')\n",
        "test_d2 = pd.read_csv('/content/gdrive/MyDrive/test.csv')\n",
        "test_X=test_d.drop(['id'],axis=1)\n",
        "\n",
        "\n",
        "\n",
        "train_X, val_X, train_y, val_y = train_test_split(X, y, test_size=0.2, random_state=42)\n",
        "\n",
        "\n",
        "\n",
        "scaler = StandardScaler()\n",
        "train_s= scaler.fit_transform(train_X)\n",
        "test_s = scaler.transform(test_X)\n",
        "val_s=scaler.transform(val_X)\n",
        "\n",
        "\n",
        "\n",
        "train_s_r = train_s.reshape(-1, 20, 20, 3)\n",
        "val_s_r=val_s.reshape(-1, 20, 20, 3)\n",
        "test_s_r = test_s.reshape(-1, 20, 20, 3)"
      ],
      "metadata": {
        "id": "NIQo3oj2pMTa"
      },
      "execution_count": 18,
      "outputs": []
    },
    {
      "cell_type": "code",
      "source": [
        "model = Sequential()\n",
        "model.add(Conv2D(40, kernel_size=(3, 3), activation='relu', input_shape=(20, 20, 3), kernel_regularizer=tf.keras.regularizers.l2(0.01)))\n",
        "\n",
        "model.add(MaxPooling2D(pool_size=(2, 2)))\n",
        "\n",
        "model.add(Conv2D(70, kernel_size=(4, 4), activation='relu', kernel_regularizer=tf.keras.regularizers.l2(0.02)))\n",
        "\n",
        "model.add(MaxPooling2D(pool_size=(3, 3)))\n",
        "\n",
        "model.add(Flatten())\n",
        "model.add(Dense(100, activation='relu', kernel_regularizer=tf.keras.regularizers.l2(0.03)))\n",
        "model.add(Dropout(0.7))\n",
        "model.add(Dense(1, activation='sigmoid'))"
      ],
      "metadata": {
        "id": "ztTS4-9woRHL"
      },
      "execution_count": 19,
      "outputs": []
    },
    {
      "cell_type": "code",
      "source": [
        "model.compile(optimizer='adam', loss='binary_crossentropy', metrics=['accuracy'])\n",
        "\n",
        "\n",
        "early_stopping = EarlyStopping(monitor='val_loss', patience=3)\n",
        "\n",
        "\n",
        "history=model.fit(train_s_r, train_y, batch_size=32, epochs=30, validation_data=(val_s_r, val_y),callbacks=[early_stopping])\n",
        "plt.plot(history.history['accuracy'], label='Training Accuracy')\n",
        "plt.plot(history.history['val_accuracy'], label='Validation Accuracy')\n"
      ],
      "metadata": {
        "colab": {
          "base_uri": "https://localhost:8080/",
          "height": 794
        },
        "id": "k8Rg_BjYoV4S",
        "outputId": "30fc657b-2657-4b00-df4f-2b09fda83c63"
      },
      "execution_count": 20,
      "outputs": [
        {
          "output_type": "stream",
          "name": "stdout",
          "text": [
            "Epoch 1/30\n",
            "132/132 [==============================] - 4s 24ms/step - loss: 2.6455 - accuracy: 0.7207 - val_loss: 0.9757 - val_accuracy: 0.7438\n",
            "Epoch 2/30\n",
            "132/132 [==============================] - 3s 22ms/step - loss: 0.7283 - accuracy: 0.7507 - val_loss: 0.5821 - val_accuracy: 0.7829\n",
            "Epoch 3/30\n",
            "132/132 [==============================] - 5s 36ms/step - loss: 0.5750 - accuracy: 0.7917 - val_loss: 0.5328 - val_accuracy: 0.8305\n",
            "Epoch 4/30\n",
            "132/132 [==============================] - 3s 23ms/step - loss: 0.5391 - accuracy: 0.8107 - val_loss: 0.5164 - val_accuracy: 0.8333\n",
            "Epoch 5/30\n",
            "132/132 [==============================] - 3s 22ms/step - loss: 0.5232 - accuracy: 0.8205 - val_loss: 0.5109 - val_accuracy: 0.8343\n",
            "Epoch 6/30\n",
            "132/132 [==============================] - 3s 22ms/step - loss: 0.5076 - accuracy: 0.8336 - val_loss: 0.5126 - val_accuracy: 0.8362\n",
            "Epoch 7/30\n",
            "132/132 [==============================] - 5s 34ms/step - loss: 0.4910 - accuracy: 0.8464 - val_loss: 0.5091 - val_accuracy: 0.8333\n",
            "Epoch 8/30\n",
            "132/132 [==============================] - 3s 24ms/step - loss: 0.4818 - accuracy: 0.8500 - val_loss: 0.5250 - val_accuracy: 0.8267\n",
            "Epoch 9/30\n",
            "132/132 [==============================] - 3s 24ms/step - loss: 0.4602 - accuracy: 0.8676 - val_loss: 0.5297 - val_accuracy: 0.8219\n",
            "Epoch 10/30\n",
            "132/132 [==============================] - 3s 22ms/step - loss: 0.4479 - accuracy: 0.8752 - val_loss: 0.5201 - val_accuracy: 0.8476\n"
          ]
        },
        {
          "output_type": "execute_result",
          "data": {
            "text/plain": [
              "[<matplotlib.lines.Line2D at 0x7fef46e178e0>]"
            ]
          },
          "metadata": {},
          "execution_count": 20
        },
        {
          "output_type": "display_data",
          "data": {
            "text/plain": [
              "<Figure size 640x480 with 1 Axes>"
            ],
            "image/png": "[encoded data removed]"
          },
          "metadata": {}
        }
      ]
    },
    {
      "cell_type": "code",
      "source": [
        "y_pred = model.predict(test_s_r)\n",
        "y_final = np.round(y_pred).flatten()"
      ],
      "metadata": {
        "colab": {
          "base_uri": "https://localhost:8080/"
        },
        "id": "vI0ktenfjQis",
        "outputId": "cf280b0d-2c80-4d72-a1f3-a07416f35bdd"
      },
      "execution_count": 21,
      "outputs": [
        {
          "output_type": "stream",
          "name": "stdout",
          "text": [
            "71/71 [==============================] - 1s 6ms/step\n"
          ]
        }
      ]
    },
    {
      "cell_type": "code",
      "source": [
        "solution = pd.DataFrame(y_final,columns=['labels'])\n",
        "solution['id']=0;\n",
        "for i in range(len(solution)):\n",
        "    solution.at[i, 'id'] = i + 1\n",
        "\n",
        "solution= solution.rename(columns={'labels': 'id', 'id': 'labels'})\n",
        "solution['labels'], solution['id'] = solution['id'], solution['labels']\n",
        "solution"
      ],
      "metadata": {
        "colab": {
          "base_uri": "https://localhost:8080/",
          "height": 423
        },
        "id": "ElbTpQ3DljsN",
        "outputId": "b6e2e2bd-5703-4ab6-a348-65865425d0fc"
      },
      "execution_count": 22,
      "outputs": [
        {
          "output_type": "execute_result",
          "data": {
            "text/plain": [
              "        id  labels\n",
              "0        1     0.0\n",
              "1        2     0.0\n",
              "2        3     0.0\n",
              "3        4     0.0\n",
              "4        5     0.0\n",
              "...    ...     ...\n",
              "2245  2246     0.0\n",
              "2246  2247     0.0\n",
              "2247  2248     1.0\n",
              "2248  2249     0.0\n",
              "2249  2250     1.0\n",
              "\n",
              "[2250 rows x 2 columns]"
            ],
            "text/html": [
              "\n",
              "  <div id=\"df-418e9748-a8c2-4d45-9e9c-65137c49489f\">\n",
              "    <div class=\"colab-df-container\">\n",
              "      <div>\n",
              "<style scoped>\n",
              "    .dataframe tbody tr th:only-of-type {\n",
              "        vertical-align: middle;\n",
              "    }\n",
              "\n",
              "    .dataframe tbody tr th {\n",
              "        vertical-align: top;\n",
              "    }\n",
              "\n",
              "    .dataframe thead th {\n",
              "        text-align: right;\n",
              "    }\n",
              "</style>\n",
              "<table border=\"1\" class=\"dataframe\">\n",
              "  <thead>\n",
              "    <tr style=\"text-align: right;\">\n",
              "      <th></th>\n",
              "      <th>id</th>\n",
              "      <th>labels</th>\n",
              "    </tr>\n",
              "  </thead>\n",
              "  <tbody>\n",
              "    <tr>\n",
              "      <th>0</th>\n",
              "      <td>1</td>\n",
              "      <td>0.0</td>\n",
              "    </tr>\n",
              "    <tr>\n",
              "      <th>1</th>\n",
              "      <td>2</td>\n",
              "      <td>0.0</td>\n",
              "    </tr>\n",
              "    <tr>\n",
              "      <th>2</th>\n",
              "      <td>3</td>\n",
              "      <td>0.0</td>\n",
              "    </tr>\n",
              "    <tr>\n",
              "      <th>3</th>\n",
              "      <td>4</td>\n",
              "      <td>0.0</td>\n",
              "    </tr>\n",
              "    <tr>\n",
              "      <th>4</th>\n",
              "      <td>5</td>\n",
              "      <td>0.0</td>\n",
              "    </tr>\n",
              "    <tr>\n",
              "      <th>...</th>\n",
              "      <td>...</td>\n",
              "      <td>...</td>\n",
              "    </tr>\n",
              "    <tr>\n",
              "      <th>2245</th>\n",
              "      <td>2246</td>\n",
              "      <td>0.0</td>\n",
              "    </tr>\n",
              "    <tr>\n",
              "      <th>2246</th>\n",
              "      <td>2247</td>\n",
              "      <td>0.0</td>\n",
              "    </tr>\n",
              "    <tr>\n",
              "      <th>2247</th>\n",
              "      <td>2248</td>\n",
              "      <td>1.0</td>\n",
              "    </tr>\n",
              "    <tr>\n",
              "      <th>2248</th>\n",
              "      <td>2249</td>\n",
              "      <td>0.0</td>\n",
              "    </tr>\n",
              "    <tr>\n",
              "      <th>2249</th>\n",
              "      <td>2250</td>\n",
              "      <td>1.0</td>\n",
              "    </tr>\n",
              "  </tbody>\n",
              "</table>\n",
              "<p>2250 rows × 2 columns</p>\n",
              "</div>\n",
              "      <button class=\"colab-df-convert\" onclick=\"convertToInteractive('df-418e9748-a8c2-4d45-9e9c-65137c49489f')\"\n",
              "              title=\"Convert this dataframe to an interactive table.\"\n",
              "              style=\"display:none;\">\n",
              "        \n",
              "  <svg xmlns=\"http://www.w3.org/2000/svg\" height=\"24px\"viewBox=\"0 0 24 24\"\n",
              "       width=\"24px\">\n",
              "    <path d=\"M0 0h24v24H0V0z\" fill=\"none\"/>\n",
              "    <path d=\"M18.56 5.44l.94 2.06.94-2.06 2.06-.94-2.06-.94-.94-2.06-.94 2.06-2.06.94zm-11 1L8.5 8.5l.94-2.06 2.06-.94-2.06-.94L8.5 2.5l-.94 2.06-2.06.94zm10 10l.94 2.06.94-2.06 2.06-.94-2.06-.94-.94-2.06-.94 2.06-2.06.94z\"/><path d=\"M17.41 7.96l-1.37-1.37c-.4-.4-.92-.59-1.43-.59-.52 0-1.04.2-1.43.59L10.3 9.45l-7.72 7.72c-.78.78-.78 2.05 0 2.83L4 21.41c.39.39.9.59 1.41.59.51 0 1.02-.2 1.41-.59l7.78-7.78 2.81-2.81c.8-.78.8-2.07 0-2.86zM5.41 20L4 18.59l7.72-7.72 1.47 1.35L5.41 20z\"/>\n",
              "  </svg>\n",
              "      </button>\n",
              "      \n",
              "  <style>\n",
              "    .colab-df-container {\n",
              "      display:flex;\n",
              "      flex-wrap:wrap;\n",
              "      gap: 12px;\n",
              "    }\n",
              "\n",
              "    .colab-df-convert {\n",
              "      background-color: #E8F0FE;\n",
              "      border: none;\n",
              "      border-radius: 50%;\n",
              "      cursor: pointer;\n",
              "      display: none;\n",
              "      fill: #1967D2;\n",
              "      height: 32px;\n",
              "      padding: 0 0 0 0;\n",
              "      width: 32px;\n",
              "    }\n",
              "\n",
              "    .colab-df-convert:hover {\n",
              "      background-color: #E2EBFA;\n",
              "      box-shadow: 0px 1px 2px rgba(60, 64, 67, 0.3), 0px 1px 3px 1px rgba(60, 64, 67, 0.15);\n",
              "      fill: #174EA6;\n",
              "    }\n",
              "\n",
              "    [theme=dark] .colab-df-convert {\n",
              "      background-color: #3B4455;\n",
              "      fill: #D2E3FC;\n",
              "    }\n",
              "\n",
              "    [theme=dark] .colab-df-convert:hover {\n",
              "      background-color: #434B5C;\n",
              "      box-shadow: 0px 1px 3px 1px rgba(0, 0, 0, 0.15);\n",
              "      filter: drop-shadow(0px 1px 2px rgba(0, 0, 0, 0.3));\n",
              "      fill: #FFFFFF;\n",
              "    }\n",
              "  </style>\n",
              "\n",
              "      <script>\n",
              "        const buttonEl =\n",
              "          document.querySelector('#df-418e9748-a8c2-4d45-9e9c-65137c49489f button.colab-df-convert');\n",
              "        buttonEl.style.display =\n",
              "          google.colab.kernel.accessAllowed ? 'block' : 'none';\n",
              "\n",
              "        async function convertToInteractive(key) {\n",
              "          const element = document.querySelector('#df-418e9748-a8c2-4d45-9e9c-65137c49489f');\n",
              "          const dataTable =\n",
              "            await google.colab.kernel.invokeFunction('convertToInteractive',\n",
              "                                                     [key], {});\n",
              "          if (!dataTable) return;\n",
              "\n",
              "          const docLinkHtml = 'Like what you see? Visit the ' +\n",
              "            '<a target=\"_blank\" href=https://colab.research.google.com/notebooks/data_table.ipynb>data table notebook</a>'\n",
              "            + ' to learn more about interactive tables.';\n",
              "          element.innerHTML = '';\n",
              "          dataTable['output_type'] = 'display_data';\n",
              "          await google.colab.output.renderOutput(dataTable, element);\n",
              "          const docLink = document.createElement('div');\n",
              "          docLink.innerHTML = docLinkHtml;\n",
              "          element.appendChild(docLink);\n",
              "        }\n",
              "      </script>\n",
              "    </div>\n",
              "  </div>\n",
              "  "
            ]
          },
          "metadata": {},
          "execution_count": 22
        }
      ]
    },
    {
      "cell_type": "code",
      "source": [
        "solution.to_csv('solution_cnn.csv', index=False)"
      ],
      "metadata": {
        "id": "DYVSy1EZll__"
      },
      "execution_count": 23,
      "outputs": []
    },
    {
      "cell_type": "code",
      "source": [],
      "metadata": {
        "id": "SkpwYJT9mtqv"
      },
      "execution_count": 23,
      "outputs": []
    }
  ]
}