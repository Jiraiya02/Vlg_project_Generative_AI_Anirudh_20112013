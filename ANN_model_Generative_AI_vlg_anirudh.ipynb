{
  "nbformat": 4,
  "nbformat_minor": 0,
  "metadata": {
    "colab": {
      "provenance": []
    },
    "kernelspec": {
      "name": "python3",
      "display_name": "Python 3"
    },
    "language_info": {
      "name": "python"
    }
  },
  "cells": [
    {
      "cell_type": "code",
      "execution_count": 6,
      "metadata": {
        "colab": {
          "base_uri": "https://localhost:8080/"
        },
        "id": "cabhF9gRflKr",
        "outputId": "d2917983-f608-42aa-ac3b-29be7bd7918c"
      },
      "outputs": [
        {
          "output_type": "stream",
          "name": "stdout",
          "text": [
            "Drive already mounted at /content/gdrive; to attempt to forcibly remount, call drive.mount(\"/content/gdrive\", force_remount=True).\n"
          ]
        }
      ],
      "source": [
        "from google.colab import drive\n",
        "drive.mount('/content/gdrive')"
      ]
    },
    {
      "cell_type": "markdown",
      "source": [
        "ANN ARCHITECTURE MODEL"
      ],
      "metadata": {
        "id": "7eH86Ulko_ye"
      }
    },
    {
      "cell_type": "code",
      "source": [
        "#Basic ANN with f1 score 0.79\n",
        "\n",
        "import pandas as pd\n",
        "import numpy as np\n",
        "import tensorflow as tf\n",
        "from tensorflow.keras.models import Sequential\n",
        "from tensorflow.keras.layers import Conv2D, MaxPooling2D, Flatten, Dense, Dropout\n",
        "from tensorflow.keras.preprocessing.image import ImageDataGenerator\n",
        "from sklearn.preprocessing import StandardScaler\n",
        "from sklearn.model_selection import train_test_split\n",
        "from tensorflow.keras.callbacks import EarlyStopping\n",
        "import matplotlib.pyplot as plt\n",
        "\n",
        "\n",
        "train_d = pd.read_csv('/content/gdrive/MyDrive/train (1).csv')\n",
        "X=train_d.drop(['labels'],axis=1)\n",
        "y = train_d['labels'].values\n",
        "\n",
        "\n",
        "\n",
        "test_d = pd.read_csv('/content/gdrive/MyDrive/test.csv')\n",
        "test_d2 = pd.read_csv('/content/gdrive/MyDrive/test.csv')\n",
        "test_X=test_d.drop(['id'],axis=1)\n",
        "\n",
        "\n",
        "\n",
        "train_X, val_X, train_y ,val_y = train_test_split(X, y, test_size=0.2, random_state=42)\n",
        "\n",
        "\n",
        "\n",
        "scaler = StandardScaler()\n",
        "train_X_s = scaler.fit_transform(train_X)\n",
        "test_X_s = scaler.transform(test_X)\n",
        "val_X_s=scaler.transform(val_X)\n",
        "\n"
      ],
      "metadata": {
        "id": "Je889-xso-Tq"
      },
      "execution_count": 7,
      "outputs": []
    },
    {
      "cell_type": "code",
      "source": [
        "model = Sequential()\n",
        "\n",
        "model.add(Dense(90, activation='relu', input_dim=1200,kernel_regularizer=tf.keras.regularizers.l2(0.001)))\n",
        "\n",
        "\n",
        "model.add(Dropout(0.7))\n",
        "\n",
        "model.add(Dense(60, activation='relu',kernel_regularizer=tf.keras.regularizers.l2(0.002)))\n",
        "\n",
        "model.add(Dropout(0.65))\n",
        "\n",
        "model.add(Dense(40, activation='relu',kernel_regularizer=tf.keras.regularizers.l2(0.003)))\n",
        "\n",
        "model.add(Dropout(0.6))\n",
        "\n",
        "model.add(Dense(1, activation='sigmoid'))\n",
        "\n",
        "\n",
        "model.compile(optimizer='adam', loss='binary_crossentropy', metrics=['accuracy'])"
      ],
      "metadata": {
        "id": "es7lsUZWoiWZ"
      },
      "execution_count": 8,
      "outputs": []
    },
    {
      "cell_type": "code",
      "source": [
        "early_stopping = EarlyStopping(monitor='val_loss', patience=4)\n",
        "\n",
        "\n",
        "\n",
        "history=model.fit(train_X_s, train_y, batch_size=32, epochs=30, validation_data=(val_X_s, val_y),callbacks=[early_stopping])\n",
        "\n",
        "plt.plot(history.history['accuracy'], label='Training Accuracy')\n",
        "plt.plot(history.history['val_accuracy'], label='Validation Accuracy')"
      ],
      "metadata": {
        "colab": {
          "base_uri": "https://localhost:8080/",
          "height": 1000
        },
        "id": "GlVKePFIomdt",
        "outputId": "271226f8-c213-404e-a824-28491ac1e805"
      },
      "execution_count": 9,
      "outputs": [
        {
          "output_type": "stream",
          "name": "stdout",
          "text": [
            "Epoch 1/30\n",
            "132/132 [==============================] - 2s 6ms/step - loss: 1.4019 - accuracy: 0.6129 - val_loss: 0.8836 - val_accuracy: 0.7790\n",
            "Epoch 2/30\n",
            "132/132 [==============================] - 1s 5ms/step - loss: 1.0440 - accuracy: 0.6890 - val_loss: 0.8560 - val_accuracy: 0.8219\n",
            "Epoch 3/30\n",
            "132/132 [==============================] - 1s 5ms/step - loss: 0.9276 - accuracy: 0.7221 - val_loss: 0.8202 - val_accuracy: 0.8419\n",
            "Epoch 4/30\n",
            "132/132 [==============================] - 1s 5ms/step - loss: 0.8473 - accuracy: 0.7540 - val_loss: 0.7694 - val_accuracy: 0.8524\n",
            "Epoch 5/30\n",
            "132/132 [==============================] - 1s 6ms/step - loss: 0.7822 - accuracy: 0.7960 - val_loss: 0.7316 - val_accuracy: 0.8533\n",
            "Epoch 6/30\n",
            "132/132 [==============================] - 1s 5ms/step - loss: 0.7239 - accuracy: 0.8090 - val_loss: 0.6812 - val_accuracy: 0.8610\n",
            "Epoch 7/30\n",
            "132/132 [==============================] - 1s 5ms/step - loss: 0.6734 - accuracy: 0.8307 - val_loss: 0.6444 - val_accuracy: 0.8648\n",
            "Epoch 8/30\n",
            "132/132 [==============================] - 1s 5ms/step - loss: 0.6361 - accuracy: 0.8395 - val_loss: 0.6242 - val_accuracy: 0.8638\n",
            "Epoch 9/30\n",
            "132/132 [==============================] - 1s 5ms/step - loss: 0.5949 - accuracy: 0.8650 - val_loss: 0.6016 - val_accuracy: 0.8695\n",
            "Epoch 10/30\n",
            "132/132 [==============================] - 1s 5ms/step - loss: 0.5485 - accuracy: 0.8786 - val_loss: 0.5836 - val_accuracy: 0.8695\n",
            "Epoch 11/30\n",
            "132/132 [==============================] - 1s 6ms/step - loss: 0.5183 - accuracy: 0.8867 - val_loss: 0.5713 - val_accuracy: 0.8600\n",
            "Epoch 12/30\n",
            "132/132 [==============================] - 1s 5ms/step - loss: 0.5000 - accuracy: 0.8955 - val_loss: 0.5680 - val_accuracy: 0.8562\n",
            "Epoch 13/30\n",
            "132/132 [==============================] - 1s 7ms/step - loss: 0.4604 - accuracy: 0.9090 - val_loss: 0.5643 - val_accuracy: 0.8581\n",
            "Epoch 14/30\n",
            "132/132 [==============================] - 1s 9ms/step - loss: 0.4209 - accuracy: 0.9205 - val_loss: 0.5766 - val_accuracy: 0.8610\n",
            "Epoch 15/30\n",
            "132/132 [==============================] - 1s 8ms/step - loss: 0.4189 - accuracy: 0.9207 - val_loss: 0.5827 - val_accuracy: 0.8629\n",
            "Epoch 16/30\n",
            "132/132 [==============================] - 1s 8ms/step - loss: 0.3912 - accuracy: 0.9312 - val_loss: 0.5802 - val_accuracy: 0.8600\n",
            "Epoch 17/30\n",
            "132/132 [==============================] - 1s 5ms/step - loss: 0.4130 - accuracy: 0.9295 - val_loss: 0.5879 - val_accuracy: 0.8257\n"
          ]
        },
        {
          "output_type": "execute_result",
          "data": {
            "text/plain": [
              "[<matplotlib.lines.Line2D at 0x7f1cd7cf4790>]"
            ]
          },
          "metadata": {},
          "execution_count": 9
        },
        {
          "output_type": "display_data",
          "data": {
            "text/plain": [
              "<Figure size 640x480 with 1 Axes>"
            ],
            "image/png": "[encoded data removed]"
          },
          "metadata": {}
        }
      ]
    },
    {
      "cell_type": "code",
      "source": [
        "#Basic ANN with f1 score 0.79\n",
        "\n",
        "import pandas as pd\n",
        "import numpy as np\n",
        "import tensorflow as tf\n",
        "from tensorflow.keras.models import Sequential\n",
        "from tensorflow.keras.layers import Conv2D, MaxPooling2D, Flatten, Dense, Dropout\n",
        "from tensorflow.keras.preprocessing.image import ImageDataGenerator\n",
        "from sklearn.preprocessing import StandardScaler\n",
        "from sklearn.model_selection import train_test_split\n",
        "from tensorflow.keras.callbacks import EarlyStopping\n",
        "import matplotlib.pyplot as plt\n",
        "\n",
        "\n",
        "train_d = pd.read_csv('/content/gdrive/MyDrive/train (1).csv')\n",
        "X=train_d.drop(['labels'],axis=1)\n",
        "y = train_d['labels'].values\n",
        "\n",
        "\n",
        "\n",
        "test_d = pd.read_csv('/content/gdrive/MyDrive/test.csv')\n",
        "test_d2 = pd.read_csv('/content/gdrive/MyDrive/test.csv')\n",
        "test_X=test_d.drop(['id'],axis=1)\n",
        "\n",
        "\n",
        "\n",
        "train_X, val_X, train_y ,val_y = train_test_split(X, y, test_size=0.2, random_state=42)\n",
        "\n",
        "\n",
        "\n",
        "scaler = StandardScaler()\n",
        "train_X_s = scaler.fit_transform(train_X)\n",
        "test_X_s = scaler.transform(test_X)\n",
        "val_X_s=scaler.transform(val_X)"
      ],
      "metadata": {
        "id": "YPxiTAfgojRr"
      },
      "execution_count": 10,
      "outputs": []
    },
    {
      "cell_type": "code",
      "source": [
        "model = Sequential()\n",
        "model.add(Dense(80, activation='relu', input_dim=1200))\n",
        "model.add(Dropout(0.7))\n",
        "model.add(Dense(70, activation='relu'))\n",
        "model.add(Dropout(0.7))\n",
        "model.add(Dense(50, activation='relu'))\n",
        "model.add(Dropout(0.7))\n",
        "model.add(Dense(40, activation='relu'))\n",
        "model.add(Dropout(0.7))\n",
        "\n",
        "model.add(Dense(1, activation='sigmoid'))"
      ],
      "metadata": {
        "id": "59k-kkL4oqYQ"
      },
      "execution_count": 11,
      "outputs": []
    },
    {
      "cell_type": "code",
      "source": [
        "\n",
        "model.compile(optimizer='adam', loss='binary_crossentropy', metrics=['accuracy'])\n",
        "early_stopping = EarlyStopping(monitor='val_loss', patience=4)\n",
        "\n",
        "\n",
        "\n",
        "history=model.fit(train_X_s, train_y, batch_size=32, epochs=30, validation_data=(val_X_s, val_y),callbacks=[early_stopping])\n",
        "\n",
        "plt.plot(history.history['accuracy'], label='Training Accuracy')\n",
        "plt.plot(history.history['val_accuracy'], label='Validation Accuracy')\n"
      ],
      "metadata": {
        "colab": {
          "base_uri": "https://localhost:8080/",
          "height": 1000
        },
        "id": "1gHhXjppou6i",
        "outputId": "22ac16ba-0d21-47e1-b37a-2e40ae63f6f0"
      },
      "execution_count": 12,
      "outputs": [
        {
          "output_type": "stream",
          "name": "stdout",
          "text": [
            "Epoch 1/30\n",
            "132/132 [==============================] - 2s 6ms/step - loss: 1.6694 - accuracy: 0.5636 - val_loss: 0.5378 - val_accuracy: 0.7438\n",
            "Epoch 2/30\n",
            "132/132 [==============================] - 1s 5ms/step - loss: 0.9324 - accuracy: 0.6236 - val_loss: 0.5704 - val_accuracy: 0.7438\n",
            "Epoch 3/30\n",
            "132/132 [==============================] - 1s 5ms/step - loss: 0.7000 - accuracy: 0.6593 - val_loss: 0.5796 - val_accuracy: 0.7438\n",
            "Epoch 4/30\n",
            "132/132 [==============================] - 1s 6ms/step - loss: 0.6099 - accuracy: 0.6867 - val_loss: 0.5577 - val_accuracy: 0.7438\n",
            "Epoch 5/30\n",
            "132/132 [==============================] - 1s 5ms/step - loss: 0.5625 - accuracy: 0.6950 - val_loss: 0.5305 - val_accuracy: 0.7438\n",
            "Epoch 6/30\n",
            "132/132 [==============================] - 1s 9ms/step - loss: 0.5163 - accuracy: 0.7102 - val_loss: 0.5366 - val_accuracy: 0.7438\n",
            "Epoch 7/30\n",
            "132/132 [==============================] - 1s 9ms/step - loss: 0.4964 - accuracy: 0.7169 - val_loss: 0.5143 - val_accuracy: 0.7438\n",
            "Epoch 8/30\n",
            "132/132 [==============================] - 1s 8ms/step - loss: 0.4844 - accuracy: 0.7195 - val_loss: 0.5023 - val_accuracy: 0.7438\n",
            "Epoch 9/30\n",
            "132/132 [==============================] - 2s 12ms/step - loss: 0.4700 - accuracy: 0.7219 - val_loss: 0.4953 - val_accuracy: 0.7438\n",
            "Epoch 10/30\n",
            "132/132 [==============================] - 1s 5ms/step - loss: 0.4510 - accuracy: 0.7243 - val_loss: 0.4821 - val_accuracy: 0.7438\n",
            "Epoch 11/30\n",
            "132/132 [==============================] - 1s 5ms/step - loss: 0.4570 - accuracy: 0.7231 - val_loss: 0.4789 - val_accuracy: 0.7438\n",
            "Epoch 12/30\n",
            "132/132 [==============================] - 1s 5ms/step - loss: 0.4315 - accuracy: 0.7988 - val_loss: 0.4794 - val_accuracy: 0.7800\n",
            "Epoch 13/30\n",
            "132/132 [==============================] - 1s 6ms/step - loss: 0.4126 - accuracy: 0.8305 - val_loss: 0.4754 - val_accuracy: 0.7676\n",
            "Epoch 14/30\n",
            "132/132 [==============================] - 1s 5ms/step - loss: 0.3998 - accuracy: 0.8390 - val_loss: 0.4710 - val_accuracy: 0.7257\n",
            "Epoch 15/30\n",
            "132/132 [==============================] - 1s 5ms/step - loss: 0.3918 - accuracy: 0.8557 - val_loss: 0.4674 - val_accuracy: 0.7200\n",
            "Epoch 16/30\n",
            "132/132 [==============================] - 1s 6ms/step - loss: 0.3812 - accuracy: 0.8502 - val_loss: 0.4630 - val_accuracy: 0.7162\n",
            "Epoch 17/30\n",
            "132/132 [==============================] - 1s 6ms/step - loss: 0.3623 - accuracy: 0.8633 - val_loss: 0.4641 - val_accuracy: 0.6990\n",
            "Epoch 18/30\n",
            "132/132 [==============================] - 1s 6ms/step - loss: 0.3601 - accuracy: 0.8605 - val_loss: 0.4511 - val_accuracy: 0.7276\n",
            "Epoch 19/30\n",
            "132/132 [==============================] - 1s 6ms/step - loss: 0.3543 - accuracy: 0.8717 - val_loss: 0.4482 - val_accuracy: 0.7324\n",
            "Epoch 20/30\n",
            "132/132 [==============================] - 1s 6ms/step - loss: 0.3278 - accuracy: 0.8779 - val_loss: 0.4489 - val_accuracy: 0.7210\n",
            "Epoch 21/30\n",
            "132/132 [==============================] - 1s 5ms/step - loss: 0.3269 - accuracy: 0.8812 - val_loss: 0.4435 - val_accuracy: 0.7181\n",
            "Epoch 22/30\n",
            "132/132 [==============================] - 1s 5ms/step - loss: 0.3151 - accuracy: 0.8890 - val_loss: 0.4360 - val_accuracy: 0.7390\n",
            "Epoch 23/30\n",
            "132/132 [==============================] - 1s 7ms/step - loss: 0.3107 - accuracy: 0.8926 - val_loss: 0.4328 - val_accuracy: 0.7438\n",
            "Epoch 24/30\n",
            "132/132 [==============================] - 1s 9ms/step - loss: 0.2863 - accuracy: 0.8995 - val_loss: 0.4191 - val_accuracy: 0.7600\n",
            "Epoch 25/30\n",
            "132/132 [==============================] - 1s 8ms/step - loss: 0.2682 - accuracy: 0.9098 - val_loss: 0.4171 - val_accuracy: 0.7571\n",
            "Epoch 26/30\n",
            "132/132 [==============================] - 1s 9ms/step - loss: 0.2599 - accuracy: 0.9143 - val_loss: 0.4241 - val_accuracy: 0.7524\n",
            "Epoch 27/30\n",
            "132/132 [==============================] - 1s 8ms/step - loss: 0.2555 - accuracy: 0.9121 - val_loss: 0.4223 - val_accuracy: 0.7505\n",
            "Epoch 28/30\n",
            "132/132 [==============================] - 1s 5ms/step - loss: 0.2649 - accuracy: 0.9105 - val_loss: 0.4352 - val_accuracy: 0.7381\n",
            "Epoch 29/30\n",
            "132/132 [==============================] - 1s 5ms/step - loss: 0.2629 - accuracy: 0.9088 - val_loss: 0.4395 - val_accuracy: 0.7352\n"
          ]
        },
        {
          "output_type": "execute_result",
          "data": {
            "text/plain": [
              "[<matplotlib.lines.Line2D at 0x7f1cf89590f0>]"
            ]
          },
          "metadata": {},
          "execution_count": 12
        },
        {
          "output_type": "display_data",
          "data": {
            "text/plain": [
              "<Figure size 640x480 with 1 Axes>"
            ],
            "image/png": "[encoded data removed]"
          },
          "metadata": {}
        }
      ]
    },
    {
      "cell_type": "code",
      "source": [
        "y_pred=model.predict(test_X_s)\n",
        "y_final=np.where(y_pred>0.5,1,0)"
      ],
      "metadata": {
        "colab": {
          "base_uri": "https://localhost:8080/"
        },
        "id": "FsJUoBXEgKkF",
        "outputId": "2097fd1f-b408-4b88-8bde-c7982c320408"
      },
      "execution_count": 13,
      "outputs": [
        {
          "output_type": "stream",
          "name": "stdout",
          "text": [
            "71/71 [==============================] - 0s 2ms/step\n"
          ]
        }
      ]
    },
    {
      "cell_type": "code",
      "source": [
        "solution = pd.DataFrame(y_final,columns=['labels'])\n",
        "solution['id']=0;\n",
        "for i in range(len(solution)):\n",
        "    solution.at[i, 'id'] = i + 1\n",
        "\n",
        "solution= solution.rename(columns={'labels': 'id', 'id': 'labels'})\n",
        "solution['labels'], solution['id'] = solution['id'], solution['labels']\n",
        "solution"
      ],
      "metadata": {
        "colab": {
          "base_uri": "https://localhost:8080/",
          "height": 423
        },
        "id": "dSWbThaLgDeU",
        "outputId": "4d68249a-5578-4993-b79a-bafc01b69c7d"
      },
      "execution_count": 14,
      "outputs": [
        {
          "output_type": "execute_result",
          "data": {
            "text/plain": [
              "        id  labels\n",
              "0        1       1\n",
              "1        2       1\n",
              "2        3       1\n",
              "3        4       0\n",
              "4        5       0\n",
              "...    ...     ...\n",
              "2245  2246       0\n",
              "2246  2247       0\n",
              "2247  2248       1\n",
              "2248  2249       0\n",
              "2249  2250       1\n",
              "\n",
              "[2250 rows x 2 columns]"
            ],
            "text/html": [
              "\n",
              "  <div id=\"df-cdfcf358-08e2-4bad-a87b-ca277dd7fc5c\">\n",
              "    <div class=\"colab-df-container\">\n",
              "      <div>\n",
              "<style scoped>\n",
              "    .dataframe tbody tr th:only-of-type {\n",
              "        vertical-align: middle;\n",
              "    }\n",
              "\n",
              "    .dataframe tbody tr th {\n",
              "        vertical-align: top;\n",
              "    }\n",
              "\n",
              "    .dataframe thead th {\n",
              "        text-align: right;\n",
              "    }\n",
              "</style>\n",
              "<table border=\"1\" class=\"dataframe\">\n",
              "  <thead>\n",
              "    <tr style=\"text-align: right;\">\n",
              "      <th></th>\n",
              "      <th>id</th>\n",
              "      <th>labels</th>\n",
              "    </tr>\n",
              "  </thead>\n",
              "  <tbody>\n",
              "    <tr>\n",
              "      <th>0</th>\n",
              "      <td>1</td>\n",
              "      <td>1</td>\n",
              "    </tr>\n",
              "    <tr>\n",
              "      <th>1</th>\n",
              "      <td>2</td>\n",
              "      <td>1</td>\n",
              "    </tr>\n",
              "    <tr>\n",
              "      <th>2</th>\n",
              "      <td>3</td>\n",
              "      <td>1</td>\n",
              "    </tr>\n",
              "    <tr>\n",
              "      <th>3</th>\n",
              "      <td>4</td>\n",
              "      <td>0</td>\n",
              "    </tr>\n",
              "    <tr>\n",
              "      <th>4</th>\n",
              "      <td>5</td>\n",
              "      <td>0</td>\n",
              "    </tr>\n",
              "    <tr>\n",
              "      <th>...</th>\n",
              "      <td>...</td>\n",
              "      <td>...</td>\n",
              "    </tr>\n",
              "    <tr>\n",
              "      <th>2245</th>\n",
              "      <td>2246</td>\n",
              "      <td>0</td>\n",
              "    </tr>\n",
              "    <tr>\n",
              "      <th>2246</th>\n",
              "      <td>2247</td>\n",
              "      <td>0</td>\n",
              "    </tr>\n",
              "    <tr>\n",
              "      <th>2247</th>\n",
              "      <td>2248</td>\n",
              "      <td>1</td>\n",
              "    </tr>\n",
              "    <tr>\n",
              "      <th>2248</th>\n",
              "      <td>2249</td>\n",
              "      <td>0</td>\n",
              "    </tr>\n",
              "    <tr>\n",
              "      <th>2249</th>\n",
              "      <td>2250</td>\n",
              "      <td>1</td>\n",
              "    </tr>\n",
              "  </tbody>\n",
              "</table>\n",
              "<p>2250 rows × 2 columns</p>\n",
              "</div>\n",
              "      <button class=\"colab-df-convert\" onclick=\"convertToInteractive('df-cdfcf358-08e2-4bad-a87b-ca277dd7fc5c')\"\n",
              "              title=\"Convert this dataframe to an interactive table.\"\n",
              "              style=\"display:none;\">\n",
              "        \n",
              "  <svg xmlns=\"http://www.w3.org/2000/svg\" height=\"24px\"viewBox=\"0 0 24 24\"\n",
              "       width=\"24px\">\n",
              "    <path d=\"M0 0h24v24H0V0z\" fill=\"none\"/>\n",
              "    <path d=\"M18.56 5.44l.94 2.06.94-2.06 2.06-.94-2.06-.94-.94-2.06-.94 2.06-2.06.94zm-11 1L8.5 8.5l.94-2.06 2.06-.94-2.06-.94L8.5 2.5l-.94 2.06-2.06.94zm10 10l.94 2.06.94-2.06 2.06-.94-2.06-.94-.94-2.06-.94 2.06-2.06.94z\"/><path d=\"M17.41 7.96l-1.37-1.37c-.4-.4-.92-.59-1.43-.59-.52 0-1.04.2-1.43.59L10.3 9.45l-7.72 7.72c-.78.78-.78 2.05 0 2.83L4 21.41c.39.39.9.59 1.41.59.51 0 1.02-.2 1.41-.59l7.78-7.78 2.81-2.81c.8-.78.8-2.07 0-2.86zM5.41 20L4 18.59l7.72-7.72 1.47 1.35L5.41 20z\"/>\n",
              "  </svg>\n",
              "      </button>\n",
              "      \n",
              "  <style>\n",
              "    .colab-df-container {\n",
              "      display:flex;\n",
              "      flex-wrap:wrap;\n",
              "      gap: 12px;\n",
              "    }\n",
              "\n",
              "    .colab-df-convert {\n",
              "      background-color: #E8F0FE;\n",
              "      border: none;\n",
              "      border-radius: 50%;\n",
              "      cursor: pointer;\n",
              "      display: none;\n",
              "      fill: #1967D2;\n",
              "      height: 32px;\n",
              "      padding: 0 0 0 0;\n",
              "      width: 32px;\n",
              "    }\n",
              "\n",
              "    .colab-df-convert:hover {\n",
              "      background-color: #E2EBFA;\n",
              "      box-shadow: 0px 1px 2px rgba(60, 64, 67, 0.3), 0px 1px 3px 1px rgba(60, 64, 67, 0.15);\n",
              "      fill: #174EA6;\n",
              "    }\n",
              "\n",
              "    [theme=dark] .colab-df-convert {\n",
              "      background-color: #3B4455;\n",
              "      fill: #D2E3FC;\n",
              "    }\n",
              "\n",
              "    [theme=dark] .colab-df-convert:hover {\n",
              "      background-color: #434B5C;\n",
              "      box-shadow: 0px 1px 3px 1px rgba(0, 0, 0, 0.15);\n",
              "      filter: drop-shadow(0px 1px 2px rgba(0, 0, 0, 0.3));\n",
              "      fill: #FFFFFF;\n",
              "    }\n",
              "  </style>\n",
              "\n",
              "      <script>\n",
              "        const buttonEl =\n",
              "          document.querySelector('#df-cdfcf358-08e2-4bad-a87b-ca277dd7fc5c button.colab-df-convert');\n",
              "        buttonEl.style.display =\n",
              "          google.colab.kernel.accessAllowed ? 'block' : 'none';\n",
              "\n",
              "        async function convertToInteractive(key) {\n",
              "          const element = document.querySelector('#df-cdfcf358-08e2-4bad-a87b-ca277dd7fc5c');\n",
              "          const dataTable =\n",
              "            await google.colab.kernel.invokeFunction('convertToInteractive',\n",
              "                                                     [key], {});\n",
              "          if (!dataTable) return;\n",
              "\n",
              "          const docLinkHtml = 'Like what you see? Visit the ' +\n",
              "            '<a target=\"_blank\" href=https://colab.research.google.com/notebooks/data_table.ipynb>data table notebook</a>'\n",
              "            + ' to learn more about interactive tables.';\n",
              "          element.innerHTML = '';\n",
              "          dataTable['output_type'] = 'display_data';\n",
              "          await google.colab.output.renderOutput(dataTable, element);\n",
              "          const docLink = document.createElement('div');\n",
              "          docLink.innerHTML = docLinkHtml;\n",
              "          element.appendChild(docLink);\n",
              "        }\n",
              "      </script>\n",
              "    </div>\n",
              "  </div>\n",
              "  "
            ]
          },
          "metadata": {},
          "execution_count": 14
        }
      ]
    },
    {
      "cell_type": "code",
      "source": [
        "solution.to_csv('solution_ann.csv', index=False)"
      ],
      "metadata": {
        "id": "0KGrZ6gTgEk_"
      },
      "execution_count": 15,
      "outputs": []
    }
  ]
}